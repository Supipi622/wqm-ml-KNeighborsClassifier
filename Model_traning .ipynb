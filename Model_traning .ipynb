{
 "cells": [
  {
   "cell_type": "code",
   "execution_count": 1,
   "metadata": {
    "id": "fhx2M0FDUXvY"
   },
   "outputs": [],
   "source": [
    "import itertools\n",
    "import numpy as np\n",
    "import matplotlib.pyplot as plt\n",
    "from matplotlib.ticker import NullFormatter\n",
    "import pandas as pd\n",
    "import matplotlib.ticker as ticker\n",
    "from sklearn import preprocessing\n",
    "%matplotlib inline"
   ]
  },
  {
   "cell_type": "code",
   "execution_count": 2,
   "metadata": {
    "colab": {
     "base_uri": "https://localhost:8080/",
     "height": 195
    },
    "id": "CRt6Bx7hU6HI",
    "outputId": "30853eee-014e-44bd-f7e2-2cd850916f0b"
   },
   "outputs": [
    {
     "data": {
      "text/html": [
       "<div>\n",
       "<style scoped>\n",
       "    .dataframe tbody tr th:only-of-type {\n",
       "        vertical-align: middle;\n",
       "    }\n",
       "\n",
       "    .dataframe tbody tr th {\n",
       "        vertical-align: top;\n",
       "    }\n",
       "\n",
       "    .dataframe thead th {\n",
       "        text-align: right;\n",
       "    }\n",
       "</style>\n",
       "<table border=\"1\" class=\"dataframe\">\n",
       "  <thead>\n",
       "    <tr style=\"text-align: right;\">\n",
       "      <th></th>\n",
       "      <th>Temperature</th>\n",
       "      <th>Humidity</th>\n",
       "      <th>Water Level</th>\n",
       "      <th>Status</th>\n",
       "    </tr>\n",
       "  </thead>\n",
       "  <tbody>\n",
       "    <tr>\n",
       "      <th>0</th>\n",
       "      <td>28.1</td>\n",
       "      <td>79</td>\n",
       "      <td>1.5</td>\n",
       "      <td>1</td>\n",
       "    </tr>\n",
       "    <tr>\n",
       "      <th>1</th>\n",
       "      <td>28.1</td>\n",
       "      <td>79</td>\n",
       "      <td>1.5</td>\n",
       "      <td>1</td>\n",
       "    </tr>\n",
       "    <tr>\n",
       "      <th>2</th>\n",
       "      <td>28.1</td>\n",
       "      <td>79</td>\n",
       "      <td>1.5</td>\n",
       "      <td>1</td>\n",
       "    </tr>\n",
       "    <tr>\n",
       "      <th>3</th>\n",
       "      <td>28.1</td>\n",
       "      <td>79</td>\n",
       "      <td>1.5</td>\n",
       "      <td>1</td>\n",
       "    </tr>\n",
       "    <tr>\n",
       "      <th>4</th>\n",
       "      <td>28.0</td>\n",
       "      <td>79</td>\n",
       "      <td>1.5</td>\n",
       "      <td>1</td>\n",
       "    </tr>\n",
       "  </tbody>\n",
       "</table>\n",
       "</div>"
      ],
      "text/plain": [
       "   Temperature  Humidity  Water Level  Status\n",
       "0         28.1        79          1.5       1\n",
       "1         28.1        79          1.5       1\n",
       "2         28.1        79          1.5       1\n",
       "3         28.1        79          1.5       1\n",
       "4         28.0        79          1.5       1"
      ]
     },
     "execution_count": 2,
     "metadata": {},
     "output_type": "execute_result"
    }
   ],
   "source": [
    "df = pd.read_csv('dataset.csv')\n",
    "df.head()"
   ]
  },
  {
   "cell_type": "code",
   "execution_count": 3,
   "metadata": {
    "colab": {
     "base_uri": "https://localhost:8080/"
    },
    "id": "HP40W43qVDJe",
    "outputId": "886663e6-3de7-4ffe-d01d-70c4a64a8591"
   },
   "outputs": [
    {
     "data": {
      "text/plain": [
       "2    1915\n",
       "1    1758\n",
       "3     736\n",
       "Name: Status, dtype: int64"
      ]
     },
     "execution_count": 3,
     "metadata": {},
     "output_type": "execute_result"
    }
   ],
   "source": [
    "df.columns, df.shape\n",
    "df['Status'].value_counts()"
   ]
  },
  {
   "cell_type": "code",
   "execution_count": 4,
   "metadata": {
    "colab": {
     "base_uri": "https://localhost:8080/",
     "height": 195
    },
    "id": "G7a56j-uVFYy",
    "outputId": "5727fa32-bbad-4a51-b77b-70873f0a1717"
   },
   "outputs": [
    {
     "data": {
      "text/html": [
       "<div>\n",
       "<style scoped>\n",
       "    .dataframe tbody tr th:only-of-type {\n",
       "        vertical-align: middle;\n",
       "    }\n",
       "\n",
       "    .dataframe tbody tr th {\n",
       "        vertical-align: top;\n",
       "    }\n",
       "\n",
       "    .dataframe thead th {\n",
       "        text-align: right;\n",
       "    }\n",
       "</style>\n",
       "<table border=\"1\" class=\"dataframe\">\n",
       "  <thead>\n",
       "    <tr style=\"text-align: right;\">\n",
       "      <th></th>\n",
       "      <th>Temperature</th>\n",
       "      <th>Humidity</th>\n",
       "      <th>Water Level</th>\n",
       "    </tr>\n",
       "  </thead>\n",
       "  <tbody>\n",
       "    <tr>\n",
       "      <th>0</th>\n",
       "      <td>28.1</td>\n",
       "      <td>79</td>\n",
       "      <td>1.5</td>\n",
       "    </tr>\n",
       "    <tr>\n",
       "      <th>1</th>\n",
       "      <td>28.1</td>\n",
       "      <td>79</td>\n",
       "      <td>1.5</td>\n",
       "    </tr>\n",
       "    <tr>\n",
       "      <th>2</th>\n",
       "      <td>28.1</td>\n",
       "      <td>79</td>\n",
       "      <td>1.5</td>\n",
       "    </tr>\n",
       "    <tr>\n",
       "      <th>3</th>\n",
       "      <td>28.1</td>\n",
       "      <td>79</td>\n",
       "      <td>1.5</td>\n",
       "    </tr>\n",
       "    <tr>\n",
       "      <th>4</th>\n",
       "      <td>28.0</td>\n",
       "      <td>79</td>\n",
       "      <td>1.5</td>\n",
       "    </tr>\n",
       "  </tbody>\n",
       "</table>\n",
       "</div>"
      ],
      "text/plain": [
       "   Temperature  Humidity  Water Level\n",
       "0         28.1        79          1.5\n",
       "1         28.1        79          1.5\n",
       "2         28.1        79          1.5\n",
       "3         28.1        79          1.5\n",
       "4         28.0        79          1.5"
      ]
     },
     "execution_count": 4,
     "metadata": {},
     "output_type": "execute_result"
    }
   ],
   "source": [
    "X = df.drop(['Status'], axis = 1)\n",
    "X.head()"
   ]
  },
  {
   "cell_type": "code",
   "execution_count": 5,
   "metadata": {
    "colab": {
     "base_uri": "https://localhost:8080/"
    },
    "id": "-k8IsNIiVMK6",
    "outputId": "411db69d-861b-40a0-e693-a4498d9ed26d"
   },
   "outputs": [
    {
     "data": {
      "text/plain": [
       "0    1\n",
       "1    1\n",
       "2    1\n",
       "3    1\n",
       "4    1\n",
       "Name: Status, dtype: int64"
      ]
     },
     "execution_count": 5,
     "metadata": {},
     "output_type": "execute_result"
    }
   ],
   "source": [
    "y = df['Status']\n",
    "y.head()"
   ]
  },
  {
   "cell_type": "code",
   "execution_count": 6,
   "metadata": {
    "colab": {
     "base_uri": "https://localhost:8080/"
    },
    "id": "UHCUvqeoVOY6",
    "outputId": "185499d7-d212-4465-c494-cd343de22258"
   },
   "outputs": [
    {
     "data": {
      "text/plain": [
       "array([[ 0.27851107, -1.03157759, -1.60232587]])"
      ]
     },
     "execution_count": 6,
     "metadata": {},
     "output_type": "execute_result"
    }
   ],
   "source": [
    "X = preprocessing.StandardScaler().fit(X).transform(X.astype(float))\n",
    "X[0:1]"
   ]
  },
  {
   "cell_type": "code",
   "execution_count": 7,
   "metadata": {
    "colab": {
     "base_uri": "https://localhost:8080/"
    },
    "id": "j_aCBFRoVZmt",
    "outputId": "8281a19e-6c89-492a-af7a-a9b1e71b56ec"
   },
   "outputs": [
    {
     "name": "stdout",
     "output_type": "stream",
     "text": [
      "Train set: (3527, 3) (3527,)\n",
      "Test set: (882, 3) (882,)\n"
     ]
    }
   ],
   "source": [
    "from sklearn.model_selection import train_test_split\n",
    "X_train, X_test, y_train, y_test = train_test_split( X, y, test_size=0.2, random_state=4)\n",
    "print ('Train set:', X_train.shape,  y_train.shape)\n",
    "print ('Test set:', X_test.shape,  y_test.shape)"
   ]
  },
  {
   "cell_type": "code",
   "execution_count": 8,
   "metadata": {
    "id": "cuq78q4AVfjk"
   },
   "outputs": [],
   "source": [
    "from sklearn.neighbors import KNeighborsClassifier\n",
    "from sklearn import metrics"
   ]
  },
  {
   "cell_type": "code",
   "execution_count": 9,
   "metadata": {
    "colab": {
     "base_uri": "https://localhost:8080/",
     "height": 421
    },
    "id": "v7XoGWBHVgal",
    "outputId": "92e841cb-b3ea-43c0-c6fe-6c2aa2f6b0f9"
   },
   "outputs": [
    {
     "name": "stdout",
     "output_type": "stream",
     "text": [
      "Minimum error:- 0.0022675736961451248 at K = 0\n"
     ]
    },
    {
     "data": {
      "image/png": "[encoded data removed]",
      "text/plain": [
       "<Figure size 720x432 with 1 Axes>"
      ]
     },
     "metadata": {
      "needs_background": "light"
     },
     "output_type": "display_data"
    }
   ],
   "source": [
    "Ks = 40\n",
    "error_rate = []\n",
    "# Will take some time\n",
    "for i in range(1,40):\n",
    " \n",
    " knn = KNeighborsClassifier(n_neighbors=i)\n",
    " knn.fit(X_train,y_train)\n",
    " pred_i = knn.predict(X_test)\n",
    " error_rate.append(np.mean(pred_i != y_test))\n",
    "\n",
    "plt.figure(figsize=(10,6))\n",
    "plt.plot(range(1,40),error_rate,color='blue', linestyle='dashed', marker='o',markerfacecolor='red', markersize=10)\n",
    "plt.title('Error Rate vs. K Value')\n",
    "plt.xlabel('K')\n",
    "plt.ylabel('Error Rate')\n",
    "\n",
    "print(\"Minimum error:-\",min(error_rate),\"at K =\",error_rate.index(min(error_rate)))"
   ]
  },
  {
   "cell_type": "code",
   "execution_count": 10,
   "metadata": {
    "colab": {
     "base_uri": "https://localhost:8080/",
     "height": 421
    },
    "id": "d-onOFBRZPRg",
    "outputId": "e4e8805f-4226-4e13-c7a3-0df2df88a05c"
   },
   "outputs": [
    {
     "name": "stdout",
     "output_type": "stream",
     "text": [
      "Maximum accuracy:- 0.9977324263038548 at K = 0\n"
     ]
    },
    {
     "data": {
      "image/png": "[encoded data removed]",
      "text/plain": [
       "<Figure size 720x432 with 1 Axes>"
      ]
     },
     "metadata": {
      "needs_background": "light"
     },
     "output_type": "display_data"
    }
   ],
   "source": [
    "acc = []\n",
    "# Will take some time\n",
    "from sklearn import metrics\n",
    "for i in range(1,100):\n",
    "    neigh = KNeighborsClassifier(n_neighbors = i).fit(X_train,y_train)\n",
    "    yhat = neigh.predict(X_test)\n",
    "    acc.append(metrics.accuracy_score(y_test, yhat))\n",
    "\n",
    "plt.figure(figsize=(10,6))\n",
    "plt.plot(range(1,100),acc,color = 'blue',linestyle='dashed', marker='o',markerfacecolor='red', markersize=10)\n",
    "plt.title('accuracy vs. K Value')\n",
    "plt.xlabel('K')\n",
    "plt.ylabel('Accuracy')\n",
    "\n",
    "print(\"Maximum accuracy:-\",max(acc),\"at K =\",acc.index(max(acc)))"
   ]
  },
  {
   "cell_type": "code",
   "execution_count": 11,
   "metadata": {
    "colab": {
     "base_uri": "https://localhost:8080/"
    },
    "id": "MvAXLwg5YzYC",
    "outputId": "7dd28131-b9f1-494a-ebae-67c49965aa0e"
   },
   "outputs": [
    {
     "data": {
      "text/plain": [
       "KNeighborsClassifier(n_neighbors=2)"
      ]
     },
     "execution_count": 11,
     "metadata": {},
     "output_type": "execute_result"
    }
   ],
   "source": [
    "k = 2\n",
    "#Train Model \n",
    "model = KNeighborsClassifier(n_neighbors = k)\n",
    "model.fit(X_train,y_train)"
   ]
  },
  {
   "cell_type": "code",
   "execution_count": 12,
   "metadata": {
    "colab": {
     "base_uri": "https://localhost:8080/"
    },
    "id": "Y698dTWLY2eQ",
    "outputId": "6feaa90f-ba6e-4117-a474-fadbafb3b7ca"
   },
   "outputs": [
    {
     "name": "stdout",
     "output_type": "stream",
     "text": [
      "Accuracy of model at K=2 is 0.9977324263038548\n"
     ]
    }
   ],
   "source": [
    "Pred_y = model.predict(X_test)\n",
    "print(\"Accuracy of model at K=2 is\",metrics.accuracy_score(y_test, Pred_y))"
   ]
  },
  {
   "cell_type": "code",
   "execution_count": 13,
   "metadata": {
    "colab": {
     "base_uri": "https://localhost:8080/"
    },
    "id": "Ekqa3z0YZGvZ",
    "outputId": "57b6139b-12bd-4fe7-bab2-387aad3b6b70"
   },
   "outputs": [
    {
     "data": {
      "text/plain": [
       "array([1, 1, 2, 1, 3, 2, 1, 1, 2, 3, 2, 1, 1, 1, 1, 3, 2, 1, 2, 1, 2, 1,\n",
       "       2, 1, 2, 3, 1, 2, 1, 2, 3, 1, 1, 2, 1, 2, 2, 2, 1, 2, 3, 2, 1, 2,\n",
       "       1, 1, 1, 3, 2, 1, 3, 2, 3, 2, 3, 3, 1, 1, 2, 2, 2, 2, 1, 3, 2, 1,\n",
       "       2, 3, 2, 1, 2, 3, 2, 1, 2, 2, 3, 1, 2, 1, 1, 1, 1, 1, 2, 3, 1, 2,\n",
       "       1, 1, 1, 2, 2, 2, 1, 1, 1, 1, 2, 2, 2, 2, 1, 2, 2, 1, 2, 3, 1, 1,\n",
       "       2, 2, 2, 2, 2, 2, 2, 1, 2, 2, 2, 1, 2, 2, 1, 2, 1, 2, 2, 1, 1, 1,\n",
       "       1, 2, 1, 1, 1, 3, 1, 1, 3, 2, 2, 2, 2, 1, 2, 2, 2, 2, 1, 3, 2, 2,\n",
       "       3, 1, 1, 1, 2, 1, 1, 3, 3, 1, 3, 2, 2, 2, 1, 2, 1, 3, 2, 1, 2, 1,\n",
       "       3, 2, 1, 1, 3, 3, 2, 1, 1, 3, 2, 2, 2, 2, 1, 2, 2, 2, 2, 1, 2, 2,\n",
       "       3, 2, 2, 3, 1, 3, 1, 3, 2, 3, 1, 3, 1, 2, 2, 3, 2, 1, 2, 3, 2, 2,\n",
       "       1, 2, 2, 1, 1, 2, 2, 3, 2, 1, 1, 2, 1, 2, 3, 1, 2, 1, 2, 2, 2, 2,\n",
       "       2, 2, 2, 1, 1, 2, 3, 1, 2, 1, 2, 1, 2, 1, 1, 1, 2, 2, 2, 1, 2, 1,\n",
       "       1, 2, 1, 1, 2, 2, 2, 2, 1, 1, 2, 1, 1, 2, 3, 1, 1, 3, 2, 1, 1, 2,\n",
       "       1, 1, 1, 2, 3, 3, 1, 3, 2, 1, 1, 2, 3, 3, 1, 2, 2, 1, 2, 1, 1, 3,\n",
       "       2, 1, 2, 1, 3, 3, 2, 3, 1, 2, 3, 3, 1, 2, 2, 1, 3, 3, 1, 2, 3, 2,\n",
       "       1, 1, 2, 2, 2, 1, 3, 2, 2, 3, 2, 1, 2, 2, 1, 1, 1, 2, 1, 2, 3, 3,\n",
       "       1, 3, 1, 2, 2, 1, 1, 1, 1, 3, 2, 3, 3, 3, 2, 2, 1, 1, 2, 2, 2, 2,\n",
       "       2, 3, 1, 2, 1, 1, 2, 2, 2, 3, 3, 2, 2, 3, 2, 1, 3, 1, 1, 1, 1, 1,\n",
       "       1, 3, 2, 1, 1, 2, 1, 3, 1, 3, 1, 2, 1, 2, 2, 1, 1, 2, 1, 2, 2, 2,\n",
       "       2, 2, 2, 2, 2, 2, 2, 2, 1, 2, 1, 1, 1, 1, 2, 3, 1, 1, 1, 1, 1, 2,\n",
       "       2, 1, 1, 1, 2, 3, 1, 2, 1, 2, 3, 1, 1, 1, 1, 2, 1, 1, 2, 1, 2, 1,\n",
       "       1, 2, 1, 2, 2, 2, 3, 1, 1, 2, 3, 1, 1, 1, 1, 2, 2, 2, 2, 2, 2, 1,\n",
       "       3, 1, 1, 1, 1, 1, 2, 2, 2, 1, 2, 1, 1, 2, 3, 1, 2, 2, 1, 1, 1, 1,\n",
       "       1, 1, 3, 1, 2, 2, 3, 1, 1, 1, 2, 1, 3, 1, 1, 3, 2, 1, 2, 3, 3, 1,\n",
       "       3, 1, 1, 2, 1, 1, 1, 2, 3, 2, 1, 2, 2, 3, 2, 2, 2, 3, 2, 1, 2, 2,\n",
       "       2, 2, 3, 1, 3, 3, 1, 3, 2, 1, 1, 2, 3, 1, 1, 1, 1, 2, 2, 1, 2, 3,\n",
       "       1, 2, 2, 1, 1, 2, 1, 3, 2, 1, 2, 1, 3, 3, 3, 2, 1, 2, 2, 3, 3, 1,\n",
       "       2, 1, 3, 1, 2, 1, 2, 2, 1, 1, 3, 1, 2, 2, 2, 1, 1, 2, 3, 1, 3, 2,\n",
       "       2, 3, 2, 1, 2, 1, 2, 2, 2, 1, 3, 1, 1, 2, 1, 2, 1, 2, 2, 2, 1, 1,\n",
       "       1, 2, 1, 2, 2, 2, 2, 1, 1, 2, 1, 2, 2, 2, 2, 2, 2, 2, 3, 1, 2, 3,\n",
       "       2, 3, 2, 1, 2, 2, 2, 2, 1, 2, 1, 1, 1, 3, 1, 2, 3, 2, 2, 1, 2, 2,\n",
       "       1, 2, 2, 1, 2, 1, 1, 1, 1, 2, 3, 1, 2, 2, 3, 1, 3, 2, 2, 2, 2, 3,\n",
       "       2, 3, 2, 2, 1, 3, 2, 1, 3, 1, 2, 2, 2, 2, 2, 3, 2, 3, 2, 1, 2, 3,\n",
       "       3, 2, 1, 2, 1, 1, 1, 1, 2, 3, 2, 1, 2, 2, 3, 2, 2, 1, 3, 2, 1, 1,\n",
       "       1, 2, 2, 1, 2, 2, 2, 3, 1, 2, 2, 3, 3, 2, 2, 1, 2, 2, 1, 2, 1, 1,\n",
       "       1, 1, 1, 3, 2, 1, 2, 3, 3, 1, 2, 3, 2, 2, 1, 1, 1, 2, 2, 1, 1, 2,\n",
       "       2, 2, 2, 2, 3, 2, 1, 2, 1, 2, 2, 1, 2, 2, 1, 1, 2, 2, 3, 2, 2, 3,\n",
       "       2, 2, 3, 1, 1, 1, 1, 1, 1, 3, 2, 2, 2, 3, 2, 1, 1, 1, 2, 2, 1, 2,\n",
       "       3, 3, 2, 2, 3, 1, 2, 1, 2, 3, 2, 1, 2, 1, 1, 2, 1, 1, 1, 3, 1, 2,\n",
       "       2, 1, 1, 1, 3, 1, 3, 2, 2, 1, 2, 2, 1, 1, 1, 3, 2, 1, 2, 2, 3, 1,\n",
       "       1, 2], dtype=int64)"
      ]
     },
     "execution_count": 13,
     "metadata": {},
     "output_type": "execute_result"
    }
   ],
   "source": [
    "Pred_y"
   ]
  },
  {
   "cell_type": "code",
   "execution_count": 14,
   "metadata": {
    "colab": {
     "base_uri": "https://localhost:8080/"
    },
    "id": "1DrO-_SWZIdY",
    "outputId": "f5de8898-7bd6-4aab-8256-237a53bc3c86"
   },
   "outputs": [
    {
     "ename": "ImportError",
     "evalue": "cannot import name 'joblib' from 'sklearn.externals' (C:\\Users\\Supipi\\anaconda3\\lib\\site-packages\\sklearn\\externals\\__init__.py)",
     "output_type": "error",
     "traceback": [
      "\u001b[1;31m---------------------------------------------------------------------------\u001b[0m",
      "\u001b[1;31mImportError\u001b[0m                               Traceback (most recent call last)",
      "\u001b[1;32m<ipython-input-14-cfd6153e8b3a>\u001b[0m in \u001b[0;36m<module>\u001b[1;34m\u001b[0m\n\u001b[1;32m----> 1\u001b[1;33m \u001b[1;32mfrom\u001b[0m \u001b[0msklearn\u001b[0m\u001b[1;33m.\u001b[0m\u001b[0mexternals\u001b[0m \u001b[1;32mimport\u001b[0m \u001b[0mjoblib\u001b[0m\u001b[1;33m\u001b[0m\u001b[1;33m\u001b[0m\u001b[0m\n\u001b[0m\u001b[0;32m      2\u001b[0m \u001b[0mjoblib\u001b[0m\u001b[1;33m.\u001b[0m\u001b[0mdump\u001b[0m\u001b[1;33m(\u001b[0m\u001b[0mmodel\u001b[0m\u001b[1;33m,\u001b[0m \u001b[1;34m'model.pkl'\u001b[0m\u001b[1;33m)\u001b[0m\u001b[1;33m\u001b[0m\u001b[1;33m\u001b[0m\u001b[0m\n",
      "\u001b[1;31mImportError\u001b[0m: cannot import name 'joblib' from 'sklearn.externals' (C:\\Users\\Supipi\\anaconda3\\lib\\site-packages\\sklearn\\externals\\__init__.py)"
     ]
    }
   ],
   "source": [
    "from sklearn.externals import joblib\n",
    "joblib.dump(model, 'model.pkl')"
   ]
  },
  {
   "cell_type": "code",
   "execution_count": null,
   "metadata": {},
   "outputs": [],
   "source": []
  }
 ],
 "metadata": {
  "colab": {
   "name": "Untitled0.ipynb",
   "provenance": []
  },
  "kernelspec": {
   "display_name": "Python 3",
   "language": "python",
   "name": "python3"
  },
  "language_info": {
   "codemirror_mode": {
    "name": "ipython",
    "version": 3
   },
   "file_extension": ".py",
   "mimetype": "text/x-python",
   "name": "python",
   "nbconvert_exporter": "python",
   "pygments_lexer": "ipython3",
   "version": "3.8.5"
  }
 },
 "nbformat": 4,
 "nbformat_minor": 1
}
